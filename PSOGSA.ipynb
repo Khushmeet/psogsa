{
 "cells": [
  {
   "cell_type": "code",
   "execution_count": 1,
   "metadata": {
    "collapsed": false,
    "deletable": true,
    "editable": true
   },
   "outputs": [],
   "source": [
    "import numpy as np\n",
    "from numpy import random as rnd\n",
    "import pandas as pd\n",
    "from sklearn.preprocessing import LabelEncoder\n",
    "from sklearn.utils import shuffle\n",
    "import sys\n",
    "import matplotlib.pyplot as plt\n",
    "%config InlineBackend.figure_format = 'retina'"
   ]
  },
  {
   "cell_type": "code",
   "execution_count": 2,
   "metadata": {
    "collapsed": false,
    "deletable": true,
    "editable": true
   },
   "outputs": [
    {
     "data": {
      "text/plain": [
       "array([[ 1.        ,  0.34693878, -0.51020408, -1.        ],\n",
       "       [ 0.91836735,  0.14285714, -0.51020408, -1.        ]])"
      ]
     },
     "execution_count": 2,
     "metadata": {},
     "output_type": "execute_result"
    }
   ],
   "source": [
    "def mapminmax(array):\n",
    "    array = np.array(array)\n",
    "    a = -1\n",
    "    b = 1\n",
    "    A = np.min(array)\n",
    "    B = np.max(array)\n",
    "    new_array = np.zeros(array.shape)\n",
    "    if len(array.shape) == 2:\n",
    "        for i in range(array.shape[0]):\n",
    "            for j in range(array[i].shape[0]):\n",
    "                x = array[i][j]\n",
    "                new_array[i][j] = a+((x-A)*(b-a)/(B-A))\n",
    "        return new_array\n",
    "    else:\n",
    "        for i in range(array.shape[0]):\n",
    "            new_array[i] = a+((array[i]-A)*(b-a)/(B-A))\n",
    "        return new_array.astype(np.int)\n",
    "    \n",
    "mapminmax([[5.1,3.5,1.4,0.2],[4.9,3.0,1.4,0.2]])"
   ]
  },
  {
   "cell_type": "code",
   "execution_count": 3,
   "metadata": {
    "collapsed": true,
    "deletable": true,
    "editable": true
   },
   "outputs": [],
   "source": [
    "def euclid_dist(x,y):\n",
    "    temp = 0\n",
    "    for i,j in zip(x,y):\n",
    "        temp += (i-j)**2\n",
    "        final = np.sqrt(temp)\n",
    "    return final"
   ]
  },
  {
   "cell_type": "code",
   "execution_count": 4,
   "metadata": {
    "collapsed": false,
    "deletable": true,
    "editable": true
   },
   "outputs": [],
   "source": [
    "def sigmoid(x):\n",
    "    return 1/(1+np.exp(-x))"
   ]
  },
  {
   "cell_type": "code",
   "execution_count": 5,
   "metadata": {
    "collapsed": false,
    "deletable": true,
    "editable": true
   },
   "outputs": [],
   "source": [
    "input_nodes = 4  #FNN\n",
    "hidden_nodes = 15\n",
    "output_nodes = 3\n",
    "def fnn(w1,w2,b1,b2,x1,x2,x3,x4):\n",
    "    inputs = np.array([x1,x2,x3,x4])\n",
    "    hidden_input = inputs.dot(w1)\n",
    "    \n",
    "    j = 0\n",
    "    hidden_output = np.zeros((1,hidden_input.shape[0]))\n",
    "    for i in hidden_input[None,:]:\n",
    "        hidden_output[j] = sigmoid(i+b1[j])\n",
    "        j += 1\n",
    "    \n",
    "    hidden_output = np.array(hidden_output)\n",
    "    output_i = hidden_output.dot(w2)\n",
    "\n",
    "    k = 0\n",
    "    output_o = np.zeros(output_i.shape[1])\n",
    "    for i in output_i[0]:\n",
    "        output_o[k] = sigmoid(i+b2[k])\n",
    "        k += 1\n",
    "    return output_o"
   ]
  },
  {
   "cell_type": "code",
   "execution_count": 6,
   "metadata": {
    "collapsed": false,
    "deletable": true,
    "editable": true
   },
   "outputs": [],
   "source": [
    "# iris dataset taking dataset and putting class labels 1,0\n",
    "df = pd.read_csv('iris.data', header=None)\n",
    "df.head()\n",
    "\n",
    "X = df.drop(4,axis=1).values\n",
    "Y = df[4].values\n",
    "\n",
    "le = LabelEncoder()\n",
    "le.fit(['Iris-setosa','Iris-versicolor','Iris-virginica'])\n",
    "Y = le.transform(Y)\n",
    "Y = mapminmax(Y)\n",
    "X = mapminmax(X)\n",
    "\n",
    "# X_train = X[:125]\n",
    "# Y_train = Y[:125]\n",
    "# X_test = X[125:]\n",
    "# Y_test = Y[125:]"
   ]
  },
  {
   "cell_type": "code",
   "execution_count": 7,
   "metadata": {
    "collapsed": false,
    "deletable": true,
    "editable": true
   },
   "outputs": [
    {
     "name": "stdout",
     "output_type": "stream",
     "text": [
      "PSOGSA is training FNN (Iteration = 500, MSE = 0.052599046999))"
     ]
    }
   ],
   "source": [
    "#500 iterations for 30 particle\n",
    "max_iters = 500\n",
    "c1 = 2\n",
    "c2 = 2\n",
    "num_particles = 30\n",
    "g0 = 1\n",
    "hidden_nodes = 15  \n",
    "dim = 8*hidden_nodes+3\n",
    "w=2;                 \n",
    "wMax=0.9            \n",
    "wMin=0.5              \n",
    "current_fitness = np.zeros((num_particles,1))\n",
    "gbest = np.zeros((1,dim))\n",
    "gbest_score = float('inf')\n",
    "weights1 = np.zeros((input_nodes, hidden_nodes))\n",
    "weights2 = np.zeros((hidden_nodes, output_nodes))\n",
    "biases1 = np.zeros((1, hidden_nodes))\n",
    "biases2 = np.zeros((1, output_nodes))\n",
    "convergence = np.zeros(max_iters)\n",
    "alpha = 20\n",
    "epsilon = 1\n",
    "\n",
    "class Particle:\n",
    "    pass\n",
    "\n",
    "#all particle initialized\n",
    "particles = []\n",
    "for i in range(num_particles):\n",
    "    p = Particle()\n",
    "    p.params = np.array([rnd.rand() for i in range(dim)])\n",
    "    p.fitness = rnd.rand()\n",
    "    p.velocity = 0.3*rnd.randn(dim)\n",
    "    p.res_force = rnd.rand()\n",
    "    p.acceleration = rnd.randn(dim)\n",
    "    p.force = np.zeros(dim)\n",
    "    p.id = i\n",
    "    particles.append(p)\n",
    "\n",
    "#training \n",
    "for i in range(max_iters):\n",
    "    # gravitational constant\n",
    "    g = g0*np.exp((-alpha*i)/max_iters)\n",
    "    \n",
    "    # calculate mse\n",
    "    cf = 0\n",
    "    for p in particles:\n",
    "        weights1 = p.params[:60].reshape((4,15))\n",
    "        weights2 = p.params[60:105].reshape((15,3))\n",
    "        biases1 = p.params[105:120]\n",
    "        biases2 = p.params[120:123]\n",
    "        \n",
    "        fitness = 0\n",
    "        y_train = 0\n",
    "        for t in X:  #ith particle output compare with target , find fitness\n",
    "            out = fnn(weights1, weights2, biases1, biases2, t[0], t[1], t[2], t[3])\n",
    "            if Y[y_train] == -1:\n",
    "                fitness = fitness + (1-out[0])**2 + (0-out[1])**2 + (0-out[2])**2\n",
    "            elif Y[y_train] == 0:\n",
    "                fitness = fitness + (0-out[0])**2 + (1-out[1])**2 + (0-out[2])**2\n",
    "            elif Y[y_train] == 1:\n",
    "                fitness = fitness + (0-out[0])**2 + (0-out[1])**2 + (1-out[2])**2\n",
    "            y_train += 1\n",
    "        \n",
    "        fitness = fitness/X.shape[0]\n",
    "        current_fitness[cf] = fitness\n",
    "        cf += 1\n",
    "        \n",
    "        if gbest_score > fitness:\n",
    "            gbest_score = fitness\n",
    "            gbest = p.params\n",
    "    \n",
    "    best_fit = min(current_fitness)\n",
    "    worst_fit = max(current_fitness)\n",
    "    \n",
    "    for p in particles:\n",
    "        p.mass = (current_fitness[particles.index(p)]-0.99*worst_fit)/(best_fit-worst_fit)\n",
    "    \n",
    "    for p in particles:\n",
    "        p.mass = p.mass*5/sum([p.mass for p in particles])\n",
    "    \n",
    "    \n",
    "    # gravitational force\n",
    "    for p in particles:\n",
    "        for x in particles[particles.index(p)+1:]:\n",
    "            p.force = (g*(x.mass*p.mass)*(p.params - x.params))/(euclid_dist(p.params,x.params))\n",
    "    \n",
    "    # resultant force\n",
    "    for p in particles:\n",
    "        p.res_force = p.res_force+rnd.rand()*p.force\n",
    "    \n",
    "    # acceleration\n",
    "    for p in particles:\n",
    "        p.acc = p.res_force/p.mass\n",
    "    \n",
    "    w = wMin-(i*(wMax-wMin)/max_iters)\n",
    "    \n",
    "    # velocity\n",
    "    for p in particles:\n",
    "        p.velocity = w*p.velocity+rnd.rand()*p.acceleration+rnd.rand()*(gbest - p.params)\n",
    "    \n",
    "    # position\n",
    "    for p in particles:\n",
    "        p.params = p.params + p.velocity\n",
    "    \n",
    "    convergence[i] = gbest_score\n",
    "    sys.stdout.write('\\rPSOGSA is training FNN (Iteration = ' + str(i+1) + ', MSE = ' + str(gbest_score) + ')')\n",
    "    sys.stdout.flush()"
   ]
  },
  {
   "cell_type": "code",
   "execution_count": 8,
   "metadata": {
    "collapsed": false,
    "deletable": true,
    "editable": true
   },
   "outputs": [],
   "source": [
    "w1 = gbest[:60].reshape((4,15))\n",
    "w2 = gbest[60:105].reshape((15,3))\n",
    "b1 = gbest[105:120]\n",
    "b2 = gbest[120:123]"
   ]
  },
  {
   "cell_type": "code",
   "execution_count": 9,
   "metadata": {
    "collapsed": false,
    "deletable": true,
    "editable": true
   },
   "outputs": [
    {
     "name": "stdout",
     "output_type": "stream",
     "text": [
      "Accuracy =  95.33333333333334\n"
     ]
    }
   ],
   "source": [
    "y = 0\n",
    "true_samples = 0\n",
    "for i in X:\n",
    "    out = fnn(w1,w2,b1,b2,i[0],i[1],i[2],i[3])\n",
    "    if Y[y] == -1:\n",
    "        if np.round(out[0]) == 1 and np.round(out[1]) == 0 and np.round(out[2]) == 0:\n",
    "            true_samples += 1\n",
    "    if Y[y] == 0:\n",
    "        if np.round(out[0]) == 0 and np.round(out[1]) == 1 and np.round(out[2]) == 0:\n",
    "            true_samples += 1\n",
    "    if Y[y] == 1:\n",
    "        if np.round(out[0]) == 0 and np.round(out[1]) == 0 and np.round(out[2]) == 1:\n",
    "            true_samples += 1\n",
    "    y+=1\n",
    "\n",
    "classification_rate = (true_samples/X.shape[0])*100\n",
    "print('Accuracy = ',classification_rate)"
   ]
  },
  {
   "cell_type": "code",
   "execution_count": 10,
   "metadata": {
    "collapsed": false,
    "deletable": true,
    "editable": true
   },
   "outputs": [
    {
     "data": {
      "image/png": "[encoded data removed]",
      "text/plain": [
       "<matplotlib.figure.Figure at 0x113d64240>"
      ]
     },
     "metadata": {
      "image/png": {
       "height": 277,
       "width": 393
      }
     },
     "output_type": "display_data"
    }
   ],
   "source": [
    "plt.plot(convergence)\n",
    "plt.xlabel('Iteration')\n",
    "plt.ylabel('MSE')\n",
    "plt.title('Classification rate %d' % classification_rate)\n",
    "plt.show()"
   ]
  },
  {
   "cell_type": "code",
   "execution_count": null,
   "metadata": {
    "collapsed": true,
    "deletable": true,
    "editable": true
   },
   "outputs": [],
   "source": []
  }
 ],
 "metadata": {
  "kernelspec": {
   "display_name": "Python 3",
   "language": "python",
   "name": "python3"
  },
  "language_info": {
   "codemirror_mode": {
    "name": "ipython",
    "version": 3
   },
   "file_extension": ".py",
   "mimetype": "text/x-python",
   "name": "python",
   "nbconvert_exporter": "python",
   "pygments_lexer": "ipython3",
   "version": "3.6.0"
  }
 },
 "nbformat": 4,
 "nbformat_minor": 2
}
